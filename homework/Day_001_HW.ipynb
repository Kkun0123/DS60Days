{
 "cells": [
  {
   "cell_type": "code",
   "execution_count": 3,
   "metadata": {},
   "outputs": [
    {
     "name": "stdout",
     "output_type": "stream",
     "text": [
      "[[1 9 3 0 2]\n",
      " [5 9 8 1 4]\n",
      " [8 3 7 3 0]]\n",
      "[array([1, 9, 3, 0, 2]), array([5, 9, 8, 1, 4]), array([8, 3, 7, 3, 0])]\n",
      "[[1, 9, 3, 0, 2], [5, 9, 8, 1, 4], [8, 3, 7, 3, 0]]\n"
     ]
    }
   ],
   "source": [
    "import numpy as np\n",
    "\n",
    "a=np.random.randint(10,size=15).reshape(3,5)\n",
    "print(a)\n",
    "print(list(a))\n",
    "print(a.tolist())\n",
    "\n",
    "'''\n",
    "Ans 1: python內建之list函式僅可回傳第一層資料，而numpy之tolist()方法可回傳一巢狀陣列\n",
    "'''"
   ]
  },
  {
   "cell_type": "code",
   "execution_count": 14,
   "metadata": {},
   "outputs": [
    {
     "name": "stdout",
     "output_type": "stream",
     "text": [
      "1\n",
      "(6,)\n",
      "6\n",
      "int32\n",
      "4\n",
      "6\n",
      "<class 'numpy.ndarray'>\n",
      "\n",
      "\n",
      "2\n",
      "(3, 4)\n",
      "12\n",
      "int32\n",
      "4\n",
      "3\n",
      "<class 'numpy.ndarray'>\n",
      "\n",
      "\n",
      "3\n",
      "(2, 3, 2)\n",
      "12\n",
      "int32\n",
      "4\n",
      "2\n",
      "<class 'numpy.ndarray'>\n"
     ]
    }
   ],
   "source": [
    "a = np.random.randint(10, size=6) \n",
    "b = np.random.randint(10, size=(3,4)) \n",
    "c = np.random.randint(10, size=(2,3,2)) \n",
    "\n",
    "print(a.ndim)     #dimension of the array\n",
    "print(a.shape)    #size of each dimension of the array\n",
    "print(a.size)     #total counts of elements within the array\n",
    "print(a.dtype)    #the data type of elements in the array\n",
    "print(a.itemsize) #the occupied spaces of elements in the array\n",
    "print(len(a))     #the length of the array, in this case, it is the same as the size of the array\n",
    "print(type(a))    #return the name of the data structure, in this case, of course, is 'numpy.ndarray'\n",
    "\n",
    "print('\\n')\n",
    "print(b.ndim)     \n",
    "print(b.shape)    \n",
    "print(b.size) \n",
    "print(b.dtype)  \n",
    "print(b.itemsize) \n",
    "print(len(b))     \n",
    "#it seems in cases of 2-D array, the function returns the length of the array of one of the dimension(longest one)\n",
    "print(type(b))\n",
    "\n",
    "print('\\n')\n",
    "print(c.ndim)     \n",
    "print(c.shape)    \n",
    "print(c.size) \n",
    "print(c.dtype)  \n",
    "print(c.itemsize) \n",
    "print(len(c))     \n",
    "print(type(c))"
   ]
  },
  {
   "cell_type": "code",
   "execution_count": 17,
   "metadata": {},
   "outputs": [
    {
     "name": "stdout",
     "output_type": "stream",
     "text": [
      "[[9, 4, 5, 1, 3], [9, 8, 0, 8, 2], [0, 6, 8, 4, 5]]\n"
     ]
    }
   ],
   "source": [
    "a=np.random.randint(10,size=15).reshape(3,5)\n",
    "\n",
    "A=[]\n",
    "for i in range(3):\n",
    "    A.append(list(a[i,:]))\n",
    "    \n",
    "print(A)"
   ]
  },
  {
   "cell_type": "code",
   "execution_count": null,
   "metadata": {},
   "outputs": [],
   "source": []
  }
 ],
 "metadata": {
  "kernelspec": {
   "display_name": "Python 3",
   "language": "python",
   "name": "python3"
  },
  "language_info": {
   "codemirror_mode": {
    "name": "ipython",
    "version": 3
   },
   "file_extension": ".py",
   "mimetype": "text/x-python",
   "name": "python",
   "nbconvert_exporter": "python",
   "pygments_lexer": "ipython3",
   "version": "3.8.5"
  }
 },
 "nbformat": 4,
 "nbformat_minor": 4
}
